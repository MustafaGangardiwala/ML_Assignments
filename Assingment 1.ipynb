{
 "cells": [
  {
   "cell_type": "markdown",
   "metadata": {},
   "source": [
    "## Assingment 1"
   ]
  },
  {
   "cell_type": "markdown",
   "metadata": {},
   "source": [
    "### 1)Python program to convert celsius to fahrenheit.(Taking user input)"
   ]
  },
  {
   "cell_type": "code",
   "execution_count": 1,
   "metadata": {},
   "outputs": [
    {
     "name": "stdout",
     "output_type": "stream",
     "text": [
      "Enter temperature in celsius: 40\n",
      "40.00 Celsius is: 104.00 Fahrenheit\n"
     ]
    }
   ],
   "source": [
    "celsius = float(input(\"Enter temperature in celsius: \"))\n",
    "fahrenheit = (celsius * 9/5) + 32\n",
    "print('%.2f Celsius is: %0.2f Fahrenheit' %(celsius, fahrenheit))"
   ]
  },
  {
   "cell_type": "markdown",
   "metadata": {},
   "source": [
    "### 2)Python program which takes numeric input from user, store it in list and then prints odd and even numbers."
   ]
  },
  {
   "cell_type": "code",
   "execution_count": 2,
   "metadata": {},
   "outputs": [
    {
     "name": "stdout",
     "output_type": "stream",
     "text": [
      "Enter the length of the list: 6\n"
     ]
    }
   ],
   "source": [
    "list1 = []\n",
    "number = int(input((\"Enter the length of the list: \")))"
   ]
  },
  {
   "cell_type": "code",
   "execution_count": 3,
   "metadata": {},
   "outputs": [
    {
     "name": "stdout",
     "output_type": "stream",
     "text": [
      "Enter number at location 0 :\n",
      "4\n",
      "Enter number at location 1 :\n",
      "15\n",
      "Enter number at location 2 :\n",
      "8\n",
      "Enter number at location 3 :\n",
      "3\n",
      "Enter number at location 4 :\n",
      "7\n",
      "Enter number at location 5 :\n",
      "12\n"
     ]
    }
   ],
   "source": [
    "for i in range(0, number):\n",
    "    print(\"Enter number at location\", i, \":\")\n",
    "    item = int(input())\n",
    "    list1.append(item)"
   ]
  },
  {
   "cell_type": "code",
   "execution_count": 4,
   "metadata": {},
   "outputs": [
    {
     "name": "stdout",
     "output_type": "stream",
     "text": [
      "Odd numbers in list: [15, 3, 7]\n",
      "Even numbers in list: [4, 8, 12]\n"
     ]
    }
   ],
   "source": [
    "only_odd = [num for num in list1 if num % 2 == 1] \n",
    "only_even = [num for num in list1 if num % 2 == 0] \n",
    "  \n",
    "print(\"Odd numbers in list:\",only_odd)\n",
    "print(\"Even numbers in list:\",only_even)"
   ]
  }
 ],
 "metadata": {
  "kernelspec": {
   "display_name": "Python 3",
   "language": "python",
   "name": "python3"
  },
  "language_info": {
   "codemirror_mode": {
    "name": "ipython",
    "version": 3
   },
   "file_extension": ".py",
   "mimetype": "text/x-python",
   "name": "python",
   "nbconvert_exporter": "python",
   "pygments_lexer": "ipython3",
   "version": "3.7.6"
  }
 },
 "nbformat": 4,
 "nbformat_minor": 4
}
