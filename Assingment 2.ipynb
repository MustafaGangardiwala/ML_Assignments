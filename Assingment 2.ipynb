{
 "cells": [
  {
   "cell_type": "markdown",
   "metadata": {},
   "source": [
    "## Assingment 2"
   ]
  },
  {
   "cell_type": "markdown",
   "metadata": {},
   "source": [
    "### 1. Create 2D array and get sum of diagonal elements."
   ]
  },
  {
   "cell_type": "code",
   "execution_count": 1,
   "metadata": {},
   "outputs": [
    {
     "name": "stdout",
     "output_type": "stream",
     "text": [
      "Array:\n",
      " [[1 2 3 4]\n",
      " [4 5 6 1]\n",
      " [1 4 7 6]\n",
      " [9 3 6 4]]\n",
      "\n",
      "Diagonal element: [1 5 7 4]\n",
      "\n",
      "Sum of Diagonal elements: 17\n"
     ]
    }
   ],
   "source": [
    "import numpy as np\n",
    "#creating a array\n",
    "arr = np.array([[1, 2, 3, 4], [4, 5, 6, 1], [1, 4, 7, 6], [9, 3, 6, 4]])\n",
    "print(\"Array:\\n\",arr)\n",
    "#storing all the diagonal elements in a different array\n",
    "arr_diagonal_element = arr.diagonal()    \n",
    "print(\"\\nDiagonal element:\",arr_diagonal_element) \n",
    "print(\"\\nSum of Diagonal elements:\",np.sum(arr_diagonal_element))"
   ]
  },
  {
   "cell_type": "markdown",
   "metadata": {},
   "source": [
    "### 2. Slice the 2D array into multiple 1D arrays by rows.\n",
    "\n"
   ]
  },
  {
   "cell_type": "code",
   "execution_count": 2,
   "metadata": {},
   "outputs": [
    {
     "name": "stdout",
     "output_type": "stream",
     "text": [
      "Sliced array: [array([[1, 2, 3, 4]]), array([[4, 5, 6, 1]]), array([[1, 4, 7, 6]]), array([[9, 3, 6, 4]])]\n"
     ]
    }
   ],
   "source": [
    "#slicing the arrays row-wise\n",
    "arr1 = np.split(arr,4)\n",
    "print(\"Sliced array:\",arr1)"
   ]
  },
  {
   "cell_type": "markdown",
   "metadata": {},
   "source": [
    "### 3. Print the array element from all 1D array where index is even number and store it in another array."
   ]
  },
  {
   "cell_type": "code",
   "execution_count": 3,
   "metadata": {},
   "outputs": [
    {
     "name": "stdout",
     "output_type": "stream",
     "text": [
      "Elements at even indexs:\n",
      "[2 4 5 1 4 6 3 4]\n"
     ]
    }
   ],
   "source": [
    "arr2 = np.concatenate(arr1)\n",
    "arr2 = arr2.ravel()\n",
    "\n",
    "#Creating a empty array\n",
    "arr3 = np.empty(0, dtype=object)\n",
    "print(\"Elements at even indexs:\")\n",
    "for i in range(1, len(arr2), 2):  \n",
    "    arr3 = np.append(arr3,arr2[i])\n",
    "print(arr3)"
   ]
  },
  {
   "cell_type": "markdown",
   "metadata": {},
   "source": [
    "### 4. Take the all output arrays of step 3 and create 2-D array from that and print that array and also dimension of that array."
   ]
  },
  {
   "cell_type": "code",
   "execution_count": 4,
   "metadata": {},
   "outputs": [
    {
     "name": "stdout",
     "output_type": "stream",
     "text": [
      "[[2 4 5 1]\n",
      " [4 6 3 4]]\n",
      "Shape of array: (2, 4)\n"
     ]
    }
   ],
   "source": [
    "#reshaping the array and storing it in other array\n",
    "arr4 = arr3.reshape(2,4)\n",
    "print(arr4)\n",
    "print(\"Shape of array:\",arr4.shape)"
   ]
  }
 ],
 "metadata": {
  "kernelspec": {
   "display_name": "Python 3",
   "language": "python",
   "name": "python3"
  },
  "language_info": {
   "codemirror_mode": {
    "name": "ipython",
    "version": 3
   },
   "file_extension": ".py",
   "mimetype": "text/x-python",
   "name": "python",
   "nbconvert_exporter": "python",
   "pygments_lexer": "ipython3",
   "version": "3.7.6"
  }
 },
 "nbformat": 4,
 "nbformat_minor": 4
}
